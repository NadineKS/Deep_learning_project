{
  "nbformat": 4,
  "nbformat_minor": 0,
  "metadata": {
    "colab": {
      "provenance": [],
      "gpuType": "T4"
    },
    "kernelspec": {
      "name": "python3",
      "display_name": "Python 3"
    },
    "language_info": {
      "name": "python"
    },
    "accelerator": "GPU"
  },
  "cells": [
    {
      "cell_type": "code",
      "execution_count": 3,
      "metadata": {
        "id": "jcxTMI0dyAkX"
      },
      "outputs": [],
      "source": [
        "!mkdir -p ~/.kaggle\n",
        "!cp kaggle.json ~/.kaggle/\n",
        "!chmod 600 ~/.kaggle/kaggle.json"
      ]
    },
    {
      "cell_type": "markdown",
      "source": [
        "# All Imports"
      ],
      "metadata": {
        "id": "Wt83zsP00FJi"
      }
    },
    {
      "cell_type": "code",
      "source": [
        "import os\n",
        "import numpy as np\n",
        "import kaggle\n",
        "import keras\n",
        "from keras import layers\n",
        "from tensorflow import data as tf_data\n",
        "import matplotlib.pyplot as plt\n",
        "import tensorflow as tf\n",
        "from tensorflow.keras.models import Sequential\n",
        "from tensorflow.keras.layers import Dense, Conv2D, MaxPooling2D, Dropout, BatchNormalization, Flatten\n",
        "from tensorflow.keras.datasets import fashion_mnist, mnist\n",
        "from tensorflow.keras.callbacks import ModelCheckpoint, EarlyStopping\n",
        "from tensorflow.keras.utils import to_categorical\n",
        "from tensorflow.keras.preprocessing.image import ImageDataGenerator\n",
        "import os\n",
        "import shutil\n",
        "from sklearn.model_selection import train_test_split\n",
        "\n"
      ],
      "metadata": {
        "id": "KEhXKJGIz6Ut"
      },
      "execution_count": 4,
      "outputs": []
    },
    {
      "cell_type": "markdown",
      "source": [
        "# All Globals"
      ],
      "metadata": {
        "id": "AKSfTKCf5wlf"
      }
    },
    {
      "cell_type": "code",
      "source": [
        "simple_model = True # True: We use a simple model, False: We use a heavy model."
      ],
      "metadata": {
        "id": "jEihzZmZ5zl6"
      },
      "execution_count": 5,
      "outputs": []
    },
    {
      "cell_type": "markdown",
      "source": [
        "# All Downloads\n"
      ],
      "metadata": {
        "id": "IoV8uxpg0Idu"
      }
    },
    {
      "cell_type": "code",
      "source": [
        "!kaggle competitions download -c dogs-vs-cats"
      ],
      "metadata": {
        "id": "jarHdoCB0La8",
        "outputId": "5f1223fb-112a-4498-edcd-139e98b86536",
        "colab": {
          "base_uri": "https://localhost:8080/"
        }
      },
      "execution_count": 6,
      "outputs": [
        {
          "output_type": "stream",
          "name": "stdout",
          "text": [
            "Downloading dogs-vs-cats.zip to /content\n",
            " 99% 803M/812M [00:06<00:00, 163MB/s]\n",
            "100% 812M/812M [00:07<00:00, 121MB/s]\n"
          ]
        }
      ]
    },
    {
      "cell_type": "code",
      "source": [
        "!unzip -q dogs-vs-cats.zip"
      ],
      "metadata": {
        "id": "1DshGvrh0gmm"
      },
      "execution_count": 7,
      "outputs": []
    },
    {
      "cell_type": "code",
      "source": [
        "!unzip -q test1.zip\n",
        "!unzip -q train.zip"
      ],
      "metadata": {
        "id": "275rpheT0m4B"
      },
      "execution_count": 8,
      "outputs": []
    },
    {
      "cell_type": "code",
      "source": [
        "train_data_dir = './train'\n",
        "output_dir = './'\n",
        "\n",
        "# Get the list of all files in the training data directory\n",
        "all_files = []\n",
        "for root, dirs, files in os.walk(train_data_dir):\n",
        "    all_files += [os.path.join(root, file) for file in files]\n",
        "\n",
        "# Split the data into train and validation sets\n",
        "train_files, val_files = train_test_split(all_files, test_size=0.2, random_state=42)\n",
        "\n",
        "# Move the files to their respective directories\n",
        "train_output_dir = os.path.join(output_dir, 'train_new')\n",
        "val_output_dir = os.path.join(output_dir, 'val_new')\n",
        "\n",
        "os.makedirs(train_output_dir, exist_ok=True)\n",
        "os.makedirs(val_output_dir, exist_ok=True)\n",
        "\n",
        "for file in train_files:\n",
        "    shutil.copy(file, os.path.join(train_output_dir, os.path.relpath(file, train_data_dir)))\n",
        "\n",
        "for file in val_files:\n",
        "    shutil.copy(file, os.path.join(val_output_dir, os.path.relpath(file, train_data_dir)))\n",
        "\n",
        "# Now you have separate train and validation directories with the split data\n"
      ],
      "metadata": {
        "id": "-atRSmkVbJRs"
      },
      "execution_count": 9,
      "outputs": []
    },
    {
      "cell_type": "code",
      "source": [
        "!mkdir ./train_new/cat\n",
        "!mkdir ./train_new/dog\n",
        "!mv ./train_new/cat* ./train_new/cat\n",
        "!mv ./train_new/dog* ./train_new/dog"
      ],
      "metadata": {
        "id": "63tVPhd-1Wo4",
        "outputId": "b5d8d315-0f2f-4c44-e27b-bdc48e9f215a",
        "colab": {
          "base_uri": "https://localhost:8080/"
        }
      },
      "execution_count": 10,
      "outputs": [
        {
          "output_type": "stream",
          "name": "stdout",
          "text": [
            "mv: cannot move './train_new/cat' to a subdirectory of itself, './train_new/cat/cat'\n",
            "mv: cannot move './train_new/dog' to a subdirectory of itself, './train_new/dog/dog'\n"
          ]
        }
      ]
    },
    {
      "cell_type": "code",
      "source": [
        "!mkdir ./val_new/cat\n",
        "!mkdir ./val_new/dog\n",
        "!mv ./val_new/cat* ./val_new/cat\n",
        "!mv ./val_new/dog* ./val_new/dog"
      ],
      "metadata": {
        "id": "XDYYM5edd9He",
        "outputId": "fe66825a-d463-468e-a5f6-ec4a4974d1e1",
        "colab": {
          "base_uri": "https://localhost:8080/"
        }
      },
      "execution_count": 11,
      "outputs": [
        {
          "output_type": "stream",
          "name": "stdout",
          "text": [
            "mv: cannot move './val_new/cat' to a subdirectory of itself, './val_new/cat/cat'\n",
            "mv: cannot move './val_new/dog' to a subdirectory of itself, './val_new/dog/dog'\n"
          ]
        }
      ]
    },
    {
      "cell_type": "code",
      "source": [
        "datatrain = ImageDataGenerator(rescale=1./255)\n",
        "dataval = ImageDataGenerator(rescale=1./255)\n",
        "datatest = ImageDataGenerator(rescale=1./255)"
      ],
      "metadata": {
        "id": "pQ8XujWo2ygN"
      },
      "execution_count": 12,
      "outputs": []
    },
    {
      "cell_type": "code",
      "source": [
        "train_data = datatrain.flow_from_directory(\n",
        "    './train_new',\n",
        "    target_size = (200, 200),\n",
        "    batch_size = 64,\n",
        "    # classes = [\"dog\", \"cat\"]\n",
        "    class_mode='binary'\n",
        ")"
      ],
      "metadata": {
        "id": "A12o_oJX3rfJ",
        "outputId": "50fe9fa1-664d-4129-fa0d-2e97054ad37c",
        "colab": {
          "base_uri": "https://localhost:8080/"
        }
      },
      "execution_count": 13,
      "outputs": [
        {
          "output_type": "stream",
          "name": "stdout",
          "text": [
            "Found 20000 images belonging to 2 classes.\n"
          ]
        }
      ]
    },
    {
      "cell_type": "code",
      "source": [
        "val_data = dataval.flow_from_directory(\n",
        "    './val_new',\n",
        "    target_size = (200, 200),\n",
        "    batch_size = 64,\n",
        "    # classes = [\"dog\", \"cat\"]\n",
        "    class_mode='binary'\n",
        ")"
      ],
      "metadata": {
        "id": "kBVywsiEaFeb",
        "outputId": "9893f501-68b4-44b1-8e85-03f314db5d9d",
        "colab": {
          "base_uri": "https://localhost:8080/"
        }
      },
      "execution_count": 14,
      "outputs": [
        {
          "output_type": "stream",
          "name": "stdout",
          "text": [
            "Found 5000 images belonging to 2 classes.\n"
          ]
        }
      ]
    },
    {
      "cell_type": "code",
      "source": [
        "!mkdir ./test1/any\n",
        "!mv ./test1/* ./test1/any"
      ],
      "metadata": {
        "id": "zR2A9fOr4e1B",
        "outputId": "676ee1bb-d673-44ef-9a4a-bde6624042b7",
        "colab": {
          "base_uri": "https://localhost:8080/"
        }
      },
      "execution_count": 15,
      "outputs": [
        {
          "output_type": "stream",
          "name": "stdout",
          "text": [
            "mv: cannot move './test1/any' to a subdirectory of itself, './test1/any/any'\n"
          ]
        }
      ]
    },
    {
      "cell_type": "code",
      "source": [
        "test_data = datatrain.flow_from_directory(\n",
        "    './test1',\n",
        "    target_size = (200, 200),\n",
        "    classes = [\"any\"]\n",
        ")"
      ],
      "metadata": {
        "id": "7gcE7lH-5Hvb",
        "outputId": "deede4be-b1cb-4848-95b7-439b9cdeb143",
        "colab": {
          "base_uri": "https://localhost:8080/"
        }
      },
      "execution_count": 16,
      "outputs": [
        {
          "output_type": "stream",
          "name": "stdout",
          "text": [
            "Found 12500 images belonging to 1 classes.\n"
          ]
        }
      ]
    },
    {
      "cell_type": "code",
      "source": [
        "if simple_model is True:\n",
        "\n",
        "  model = Sequential()\n",
        "  model.add(Conv2D(32, (3, 3), activation='relu', input_shape=(200, 200, 3)))\n",
        "  model.add(Conv2D(32, (3, 3), activation='relu'))\n",
        "  model.add(MaxPooling2D(pool_size=(2, 2)))\n",
        "  model.add(Dropout(0.5))\n",
        "\n",
        "  model.add(Conv2D(64, (3, 3), activation='relu'))\n",
        "  model.add(Conv2D(64, (3, 3), activation='relu'))\n",
        "  model.add(MaxPooling2D(pool_size=(2, 2)))\n",
        "  model.add(Dropout(0.5))\n",
        "  # taking the first row of the first slice of the volume and put it beside to the second row of the first slice, and so on\n",
        "  model.add(Flatten())\n",
        "  model.add(Dense(256, activation='relu'))\n",
        "  model.add(Dropout(0.5))\n",
        "  model.add(Dense(1, activation='sigmoid'))\n",
        "\n",
        "else:\n",
        "  model = Sequential()\n",
        "  model.add(Conv2D(input_shape = (200,200,3), filters = 64, kernel_size = (3,3), padding = \"same\", activation = \"relu\"))\n",
        "  model.add(Conv2D(filters = 64,kernel_size = (3,3),padding = \"same\", activation = \"relu\"))\n",
        "  model.add(MaxPool2D(pool_size = (2,2),strides = (2,2)))\n",
        "  model.add(Conv2D(filters = 128, kernel_size = (3,3), padding = \"same\", activation = \"relu\"))\n",
        "  model.add(Conv2D(filters = 128, kernel_size = (3,3), padding = \"same\", activation = \"relu\"))\n",
        "  model.add(MaxPool2D(pool_size = (2,2),strides = (2,2)))\n",
        "  model.add(Conv2D(filters = 256, kernel_size = (3,3), padding = \"same\", activation = \"relu\"))\n",
        "  model.add(Conv2D(filters = 256, kernel_size = (3,3), padding = \"same\", activation = \"relu\"))\n",
        "  model.add(Conv2D(filters = 256, kernel_size = (3,3), padding = \"same\", activation = \"relu\"))\n",
        "  model.add(MaxPool2D(pool_size = (2,2),strides = (2,2)))\n",
        "  model.add(Conv2D(filters = 512, kernel_size = (3,3), padding = \"same\", activation = \"relu\"))\n",
        "  model.add(Conv2D(filters = 512, kernel_size = (3,3), padding = \"same\", activation = \"relu\"))\n",
        "  model.add(Conv2D(filters = 512, kernel_size = (3,3), padding = \"same\", activation = \"relu\"))\n",
        "  model.add(MaxPool2D(pool_size = (2,2),strides = (2,2)))\n",
        "  model.add(Conv2D(filters = 512, kernel_size = (3,3), padding = \"same\", activation = \"relu\"))\n",
        "  model.add(Conv2D(filters = 512, kernel_size = (3,3), padding = \"same\", activation = \"relu\"))\n",
        "  model.add(Conv2D(filters = 512, kernel_size = (3,3), padding = \"same\", activation = \"relu\"))\n",
        "  model.add(MaxPool2D(pool_size = (2,2),strides = (2,2)))\n",
        "  model.add(Flatten())\n",
        "  model.add(Dense(units = 4096,activation = \"relu\"))\n",
        "  model.add(Dense(units = 4096,activation = \"relu\"))\n",
        "  model.add(Dense(units = 2, activation = \"softmax\"))\n",
        "model.summary()"
      ],
      "metadata": {
        "id": "TqDygPAl5nGT",
        "outputId": "2c9deb5d-2e36-4cf1-fec1-6ab8843f6b30",
        "colab": {
          "base_uri": "https://localhost:8080/"
        }
      },
      "execution_count": 17,
      "outputs": [
        {
          "output_type": "stream",
          "name": "stdout",
          "text": [
            "Model: \"sequential\"\n",
            "_________________________________________________________________\n",
            " Layer (type)                Output Shape              Param #   \n",
            "=================================================================\n",
            " conv2d (Conv2D)             (None, 198, 198, 32)      896       \n",
            "                                                                 \n",
            " conv2d_1 (Conv2D)           (None, 196, 196, 32)      9248      \n",
            "                                                                 \n",
            " max_pooling2d (MaxPooling2  (None, 98, 98, 32)        0         \n",
            " D)                                                              \n",
            "                                                                 \n",
            " dropout (Dropout)           (None, 98, 98, 32)        0         \n",
            "                                                                 \n",
            " conv2d_2 (Conv2D)           (None, 96, 96, 64)        18496     \n",
            "                                                                 \n",
            " conv2d_3 (Conv2D)           (None, 94, 94, 64)        36928     \n",
            "                                                                 \n",
            " max_pooling2d_1 (MaxPoolin  (None, 47, 47, 64)        0         \n",
            " g2D)                                                            \n",
            "                                                                 \n",
            " dropout_1 (Dropout)         (None, 47, 47, 64)        0         \n",
            "                                                                 \n",
            " flatten (Flatten)           (None, 141376)            0         \n",
            "                                                                 \n",
            " dense (Dense)               (None, 256)               36192512  \n",
            "                                                                 \n",
            " dropout_2 (Dropout)         (None, 256)               0         \n",
            "                                                                 \n",
            " dense_1 (Dense)             (None, 1)                 257       \n",
            "                                                                 \n",
            "=================================================================\n",
            "Total params: 36258337 (138.31 MB)\n",
            "Trainable params: 36258337 (138.31 MB)\n",
            "Non-trainable params: 0 (0.00 Byte)\n",
            "_________________________________________________________________\n"
          ]
        }
      ]
    },
    {
      "cell_type": "code",
      "source": [
        "model.compile(loss = 'binary_crossentropy', metrics = ['accuracy'], optimizer = 'sgd')"
      ],
      "metadata": {
        "id": "yF342JIoDVDO"
      },
      "execution_count": 18,
      "outputs": []
    },
    {
      "cell_type": "code",
      "source": [
        "hist = model.fit(train_data, validation_data= val_data, epochs = 10)"
      ],
      "metadata": {
        "id": "9jIuptCYEygz",
        "outputId": "3a2a800a-b9c3-4b8c-f729-bcc779e7f302",
        "colab": {
          "base_uri": "https://localhost:8080/"
        }
      },
      "execution_count": 19,
      "outputs": [
        {
          "output_type": "stream",
          "name": "stdout",
          "text": [
            "Epoch 1/10\n",
            "313/313 [==============================] - 95s 268ms/step - loss: 0.6895 - accuracy: 0.5426 - val_loss: 0.6845 - val_accuracy: 0.6070\n",
            "Epoch 2/10\n",
            "313/313 [==============================] - 83s 264ms/step - loss: 0.6709 - accuracy: 0.5901 - val_loss: 0.6777 - val_accuracy: 0.5526\n",
            "Epoch 3/10\n",
            "313/313 [==============================] - 84s 266ms/step - loss: 0.6549 - accuracy: 0.6095 - val_loss: 0.6693 - val_accuracy: 0.5784\n",
            "Epoch 4/10\n",
            "313/313 [==============================] - 84s 268ms/step - loss: 0.6412 - accuracy: 0.6240 - val_loss: 0.6337 - val_accuracy: 0.6324\n",
            "Epoch 5/10\n",
            "313/313 [==============================] - 88s 281ms/step - loss: 0.6289 - accuracy: 0.6382 - val_loss: 0.6399 - val_accuracy: 0.6174\n",
            "Epoch 6/10\n",
            "313/313 [==============================] - 85s 271ms/step - loss: 0.6146 - accuracy: 0.6535 - val_loss: 0.6175 - val_accuracy: 0.6448\n",
            "Epoch 7/10\n",
            "313/313 [==============================] - 84s 267ms/step - loss: 0.6018 - accuracy: 0.6660 - val_loss: 0.6248 - val_accuracy: 0.6314\n",
            "Epoch 8/10\n",
            "313/313 [==============================] - 84s 269ms/step - loss: 0.5863 - accuracy: 0.6782 - val_loss: 0.6072 - val_accuracy: 0.6432\n",
            "Epoch 9/10\n",
            "313/313 [==============================] - 84s 268ms/step - loss: 0.5749 - accuracy: 0.6937 - val_loss: 0.5722 - val_accuracy: 0.6830\n",
            "Epoch 10/10\n",
            "313/313 [==============================] - 83s 264ms/step - loss: 0.5613 - accuracy: 0.7033 - val_loss: 0.6042 - val_accuracy: 0.6536\n"
          ]
        }
      ]
    },
    {
      "cell_type": "code",
      "source": [
        "acc = hist.history['accuracy']\n",
        "val_acc = hist.history['val_accuracy']\n",
        "loss = hist.history['loss']\n",
        "val_loss = hist.history['val_loss']\n",
        "\n",
        "epochs = range(len(acc))\n",
        "\n",
        "plt.plot(epochs, acc, 'bo', label='Train Accuracy')\n",
        "plt.plot(epochs, val_acc, 'b', label='Val Accuracy')\n",
        "plt.title('Training and validation accuracy')\n",
        "plt.legend()\n",
        "plt.savefig(\"accuracies.jpg\")\n",
        "plt.figure()\n",
        "\n",
        "plt.plot(epochs, loss, 'bo', label='Train Loss')\n",
        "plt.plot(epochs, val_loss, 'b', label='Val Loss')\n",
        "plt.title('Training and validation loss')\n",
        "plt.legend()\n",
        "plt.savefig(\"losses.jpg\")\n",
        "plt.show()"
      ],
      "metadata": {
        "id": "5O-ExNRwk6-y",
        "outputId": "fd14099f-e348-4997-f232-decf55ca869d",
        "colab": {
          "base_uri": "https://localhost:8080/",
          "height": 887
        }
      },
      "execution_count": 20,
      "outputs": [
        {
          "output_type": "display_data",
          "data": {
            "text/plain": [
              "<Figure size 640x480 with 1 Axes>"
            ],
            "image/png": "[encoded data removed]"
          },
          "metadata": {}
        },
        {
          "output_type": "display_data",
          "data": {
            "text/plain": [
              "<Figure size 640x480 with 1 Axes>"
            ],
            "image/png": "[encoded data removed]"
          },
          "metadata": {}
        }
      ]
    }
  ]
}